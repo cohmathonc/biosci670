{
 "cells": [
  {
   "cell_type": "markdown",
   "metadata": {
    "colab_type": "text",
    "id": "view-in-github"
   },
   "source": [
    "<a href=\"https://colab.research.google.com/github/cohmathonc/biosci670/blob/master/IntroductionComputationalMethods/L00_CompWorkingEnv.ipynb\" target=\"_parent\"><img src=\"https://colab.research.google.com/assets/colab-badge.svg\" alt=\"Open In Colab\"/></a>"
   ]
  },
  {
   "cell_type": "markdown",
   "metadata": {
    "colab_type": "text",
    "id": "kQws6d4Wan4s"
   },
   "source": [
    "# Computational Environment for Mathematical Modeling"
   ]
  },
  {
   "cell_type": "markdown",
   "metadata": {},
   "source": [
    "While simple mathematical models can be analyzed analytically, this becomes more difficult as their complexity increases. \n",
    "Furthermore, for many problems, analytic solutions do not exist.\n",
    "In these cases, computational tools can help find or approximate solutions.\n",
    "\n",
    "The fundamental role of these tools is to facilitate repetitive arithmetic tasks and visualization.\n",
    "*In principle*, most programming languages provide this functionality.\n"
   ]
  },
  {
   "cell_type": "markdown",
   "metadata": {},
   "source": [
    "## Common Language Options for Scientific Computing\n",
    "Various high-level *specialized programming languages* have been developed with focus on *scientific applications*.\n",
    "These languages have their origin in a specific user community and provide abstractions and functionalities tailored to this community and its scientific domain.\n",
    "Typical examples include:\n",
    "\n",
    "*   [Matlab](https://www.mathworks.com/products/matlab.html): Focus on numerical computing for science & engineering. Proprietary, requires license.\n",
    "*   [Octave](https://www.gnu.org/software/octave/): Numerical computation, high compatibility to Matlab,  Open source.\n",
    "*   [Scilab](https://www.scilab.org): Numerical computation, Open source. \n",
    "*   [R](https://www.r-project.org): Focus on statistical computing. Open source.\n",
    "\n",
    "All these are [interpreted](https://en.wikipedia.org/wiki/Interpreted_language) languages (instead of [compiled](https://en.wikipedia.org/wiki/Compiled_language) languages).\n",
    "They provide an 'interactive' user experience, which facilitates incremental code development but comes at the cost of computational speed.\n",
    "\n",
    "Over the last years, also the following high-level *general purpose languages* have become increasingly popular for scientific computing.\n",
    "\n",
    "*   [Python](https://www.python.org): General purpose, Open source.\n",
    "*   [Julia](https://julialang.org): General purpose, Open source. \n",
    "\n",
    "These languages offer a similar interactive programming experience as the specialized languages listed above and are backed by a large developer and user community.\n",
    "Although designed as general purpose languages, a large ecosystem of 'external' libraries allows their functionality to be easily extended for specific aspects of scientific computing."
   ]
  },
  {
   "cell_type": "markdown",
   "metadata": {
    "colab_type": "text",
    "id": "iKM56f47jzsN"
   },
   "source": [
    "## Python\n",
    "\n",
    "We will use [Python](https://www.python.org) to introduce basic programming concepts and for most of the computational exercises in this course.\n",
    "\n",
    "Python is an **interpreted**, **high-level**, **general-purpose** programming language.\n",
    "Its reference implementation is **open source** software managed by the [Python Software Foundation](https://www.python.org/psf/).\n",
    "Development on Python started in the late 1980s and the very first release dates back to 1991. \n",
    "In case you wonder about the name, it has nothing to do with reptiles but is a tribute to the [Monty Python Flying Circus](https://en.wikipedia.org/wiki/Monty_Python) ([see FAQ](https://docs.python.org/2/faq/general.html#why-is-it-called-python)). \n",
    "\n",
    "Python has a large [standard library](https://docs.python.org/3/library/) that provides functionalities for a wide range of application domains. \n",
    "Most extensions and community-contributed software modules are indexed in the [Python Package Index](https://pypi.org), the official repository of third-party Python libraries.\n",
    "This rich ecosystem makes Python one of the [most popular](https://www.tiobe.com/tiobe-index/) programming languages today.\n",
    "\n",
    "Two major release versions of Python are commonly being used today, version `2.x` (typically `2.7.x`) and version `3.x` (latest `3.7.x`). We will be using version `3.7`. Refer to this [discussion](https://wiki.python.org/moin/Python2orPython3) about differences between those versions.\n",
    "\n",
    "### Python Installation Options\n",
    "\n",
    "First, note that there is **no need to install Python** for this course; see *Python without Installation* below.\n",
    "\n",
    "The basic Python interpreter comes pre-installed on most linux systems and on MacOS. You can check whether it is available on your system by typing `python` in a terminal or command line window.\n",
    "\n",
    "If you do want to set up a local installation and this is your first Python experience, I would recommend to install [ANACONDA](https://www.anaconda.com/download) which provides a full featured Python environment that is [easy to install](https://docs.anaconda.com/anaconda/install/). Choose the `Python 3.x` installation option.\n",
    "ANACONDA bundles the basic python interpreter with additional tools, such as [IPython](https://ipython.org), an interactive interpreter, [Spyder](https://www.spyder-ide.org), an *integrated development environment* (IDE) for scientific python programming (similar to Matlab or RStudio for R), and [Jupyter](https://jupyter.org) for browser-based interactive programming notebooks.\n",
    "Jupyter Notebooks can contain live code, equations, visualizations and narrative text. They can be shared as static (see [nbviewer](https://nbviewer.jupyter.org) examples) or interactive (see this [example](https://mybinder.org/v2/gh/jupyterlab/jupyterlab-demo/master?urlpath=lab%2Ftree%2Fdemo%2FLorenz.ipynb)) documents containing text and executable code blocks.\n",
    "\n",
    "\n",
    "Information about installing the basic python interpreter is available here [here](https://wiki.python.org/moin/BeginnersGuide/Download). \n",
    "\n",
    "\n",
    "\n",
    "\n",
    "### Python without Installation\n",
    "\n",
    "*[Colab](https://colab.research.google.com)* is a Google service that is compatible to [Jupyter](https://jupyter.org) Notebooks and allows these notebooks to be opened, edited and executed online. Notebooks can be saved to Google Drive, be shared like other files on google drive and, of course, be downloaded.\n",
    "\n",
    "For more information, see the  [Colab introduction](https://colab.research.google.com/notebooks/welcome.ipynb), particularly the links covering [basic features](https://colab.research.google.com/notebooks/basic_features_overview.ipynb), [text in Colab](https://colab.research.google.com/notebooks/markdown_guide.ipynb) and [plotting in Colab](https://colab.research.google.com/notebooks/charts.ipynb).\n",
    "    "
   ]
  },
  {
   "cell_type": "markdown",
   "metadata": {
    "colab_type": "text",
    "id": "645xUBeqpHxr"
   },
   "source": [
    "## Course Materials and Programming Exercises"
   ]
  },
  {
   "cell_type": "markdown",
   "metadata": {
    "colab_type": "text",
    "id": "Rn5wO3j6pN_1"
   },
   "source": [
    "Programming lectures and exercises for the course will be collected in this github repository:\n",
    "\n",
    "https://github.com/cohmathonc/biosci670\n",
    "\n",
    "The repository contains a readme file, folder structure and various [Jupyter](https://jupyter.org)-Notebook files (`*.ipynb`). \n",
    "You can download the entire repository or browse the content of the repository online. \n",
    "\n",
    "The notebook files can be edited and executed in a local installation, or online using [Google Colab](https://colab.research.google.com/notebooks/welcome.ipynb).\n",
    "To open them in Colab, simply click on the ![Open In Colab](https://colab.research.google.com/assets/colab-badge.svg) badge that is displayed at the top of each file."
   ]
  },
  {
   "cell_type": "markdown",
   "metadata": {},
   "source": [
    "## Other Materials\n",
    "\n",
    "### General Python\n",
    "- [Think Python](http://greenteapress.com/wp/think-python-2e/) is a free book on Python. \n",
    "- The [official Python documentation](https://docs.python.org/3/), including a very detailed [tutorial](https://docs.python.org/3/tutorial/index.html).\n",
    "- [Python 101](https://python101.pythonlibrary.org) provides an in-depth introduction to general programming in python.\n",
    "\n",
    "### Python for Scientific Computing\n",
    "- [SciPy](https://www.scipy.org/about.html), python for scientific computing.\n",
    "- [Getting Stared with SciPy](https://www.scipy.org/getting-started.html), and the [SciPy lecture notes](http://scipy-lectures.org/index.html).\n",
    "\n",
    "### More Resources\n",
    "See the PythonWiki [Beginner's Guide](https://wiki.python.org/moin/BeginnersGuide) and [Beginner's Guide for Non-Programmers](https://wiki.python.org/moin/BeginnersGuide/NonProgrammers)."
   ]
  }
 ],
 "metadata": {
  "colab": {
   "collapsed_sections": [],
   "include_colab_link": true,
   "name": "L00_CompWorkingEnv.ipynb",
   "provenance": [],
   "toc_visible": true,
   "version": "0.3.2"
  },
  "kernelspec": {
   "display_name": "Python 2",
   "language": "python",
   "name": "python2"
  },
  "language_info": {
   "codemirror_mode": {
    "name": "ipython",
    "version": 2
   },
   "file_extension": ".py",
   "mimetype": "text/x-python",
   "name": "python",
   "nbconvert_exporter": "python",
   "pygments_lexer": "ipython2",
   "version": "2.7.3"
  }
 },
 "nbformat": 4,
 "nbformat_minor": 2
}
