{
 "cells": [
  {
   "cell_type": "markdown",
   "metadata": {
    "colab_type": "text",
    "id": "WcDyU0iCLhRD"
   },
   "source": [
    "<a href=\"https://colab.research.google.com/github/cohmathonc/biosci670/blob/master/IntroductionComputationalMethods/exercises_solutions/07_ODEs_solution.ipynb\" target=\"_parent\"><img src=\"https://colab.research.google.com/assets/colab-badge.svg\" alt=\"Open In Colab\"/></a>"
   ]
  },
  {
   "cell_type": "code",
   "execution_count": null,
   "metadata": {
    "colab": {},
    "colab_type": "code",
    "id": "c6K7JlJf5ndD"
   },
   "outputs": [],
   "source": [
    "import numpy as np\n",
    "import matplotlib.pylab as plt"
   ]
  },
  {
   "cell_type": "markdown",
   "metadata": {
    "colab_type": "text",
    "id": "5MjsT-4-uA5j"
   },
   "source": [
    "# Solving ODEs"
   ]
  },
  {
   "cell_type": "markdown",
   "metadata": {
    "colab_type": "text",
    "id": "1K3vJYqluOSe"
   },
   "source": [
    "You see the following plot (if not displayed, view [here](https://github.com/cohmathonc/biosci670/blob/master/IntroductionComputationalMethods/exercises/figs/ODE_oscillating_solution.png)) in a report:\n",
    "\n",
    "<img src=\"https://github.com/cohmathonc/biosci670/blob/master/IntroductionComputationalMethods/exercises/figs/ODE_oscillating_solution.png?raw=1\">\n",
    "\n",
    "The authors state that the plot shows the simulated time evolution of a specific cell growth model, and they report an oscillatory growth pattern. They also mention that the explicit Euler method was used to solve the ODE that describes the growth model.\n",
    "\n",
    "1. You suspect that the reported oscillatory pattern might be a numerical artifact. Why? \n",
    "   \n",
    "   (Review *1.1.1 Euler Method (explicit)* in the [ODE notebook](https://github.com/cohmathonc/biosci670/blob/master/IntroductionComputationalMethods/05_IntroCompMethods_SolvingODEs.ipynb))\n",
    "\n",
    "\n",
    "2. How could the authors test numerically whether the pattern that they discovered is indeed a feature of their ODE model?\n",
    "\n",
    "\n",
    "3. After contacting the authors, you learned that their ODE is based on the *logistic growth model* \n",
    "$$\\frac{dy}{dt}=r\\,y\\, (1-\\frac{y}{K}) \\, ,\\tag{1}$$\n",
    "with parameter choices $r=0.1$, $K=1$and initial value $y_0=0.1$.\n",
    "\n",
    "  Approximate $y(t)$ numerically in the range from $t_0=0$ and $t_\\text{max}=100$ using the explicit Euler method. Solve the model for 3 different step sizes $\\Delta t = \\{10, 5, 1\\}$. What are the implications for question (1)?\n",
    "\n",
    "\n",
    "4. (**optional**) As in question (3) but now use the Runge-Kutta RK4 method with fixed time step (see [notebook](https://github.com/cohmathonc/biosci670/blob/master/IntroductionComputationalMethods/05_IntroCompMethods_SolvingODEs.ipynb)) for solving the ODE.\n",
    "\n",
    "\n",
    "5. (**optional**) Use the RK45 method with adaptive time stepping provided by `scipy.integrate` through the `solve_ivp` interface.\n",
    "   The solution object contains time steps and estimated function values resulting from adaptive time stepping.\n",
    "\n",
    "\n",
    "6. (**optional**) Read the description of the `rtol` option of `scipy.integrate.solve_ivp`. How do different choices of `rtol` to affect the size/number of time-steps computed by the adaptive algorithm. \n",
    "   \n",
    "\n"
   ]
  },
  {
   "cell_type": "markdown",
   "metadata": {},
   "source": [
    "## Solution"
   ]
  },
  {
   "cell_type": "markdown",
   "metadata": {},
   "source": [
    "### Possible explanations for oscillatory pattern"
   ]
  },
  {
   "cell_type": "markdown",
   "metadata": {},
   "source": [
    "The oscillatory pattern could be a sign of numeric instability:\n",
    "- Authors mention that explicit Euler method was used. This method requires small time steps to ensure convergence to the real solution and may become unstable otherwise.\n",
    "- No precise information about the stepsize is provided, but the plot indicates that very large stepsizes $\\Delta t > 10$ have been used for integration.\n",
    "\n",
    "See example in exercise (2) of section *1.1.1 Euler Method (explicit)* in the [ODE notebook](https://github.com/cohmathonc/biosci670/blob/master/IntroductionComputationalMethods/05_IntroCompMethods_SolvingODEs.ipynb).\n"
   ]
  },
  {
   "cell_type": "markdown",
   "metadata": {},
   "source": [
    "### Numeric tests to confirm results"
   ]
  },
  {
   "cell_type": "markdown",
   "metadata": {},
   "source": [
    "The authors could repeat their simulation using a different integration method, and/or decrease the step size of their simulation.\n",
    "If the oscillatory pattern cannot be reproduced with finer step sizes, it is likely an artifact of the numerical method for the specific ODE and parameters used for its integration."
   ]
  },
  {
   "cell_type": "markdown",
   "metadata": {},
   "source": [
    "### Solve with explicit Euler"
   ]
  },
  {
   "cell_type": "code",
   "execution_count": null,
   "metadata": {},
   "outputs": [],
   "source": [
    "# from lecture notes L05 \n",
    "# https://github.com/cohmathonc/biosci670/blob/master/IntroductionComputationalMethods/L05_IntroCompMethods_SolvingODEs.ipynb\n",
    "\n",
    "def log_growth(t, y):\n",
    "    return 0.1*y*(1-y)\n",
    "\n",
    "def solve_euler(f, t, y_0):\n",
    "    \"\"\"\n",
    "    Uses explicit euler method to solve ODE: y'=f(t, y) \n",
    "    with initial value y(t_0)=y_0.\n",
    "\n",
    "    Args:\n",
    "    - f: Function object that computes y', expected signature f(t, y), \n",
    "         where t is evaluation point and y is function value\n",
    "    - t: array of evaluation points\n",
    "    - y_0: initial value, i.e. y(t[0])\n",
    "\n",
    "    Returns:\n",
    "    - array containing approximated function values y(t[i]) \n",
    "    \"\"\"\n",
    "    y = np.zeros(t.shape)\n",
    "    y[0] = y_0\n",
    "    for i in range(0, len(t)-1):\n",
    "        y[i+1] = y[i] + (t[i+1]-t[i]) * f(t[i],y[i])\n",
    "    return y"
   ]
  },
  {
   "cell_type": "code",
   "execution_count": null,
   "metadata": {},
   "outputs": [],
   "source": [
    "t_min = 0 \n",
    "t_max = 100\n",
    "y_0 = 0.1\n",
    "\n",
    "fig = plt.figure(figsize=plt.figaspect(0.5))\n",
    "ax = fig.add_subplot(111) \n",
    "\n",
    "for delta_t in [10, 5, 1]:\n",
    "    t = np.arange(t_min, t_max, delta_t)\n",
    "    y_euler_exp = solve_euler(log_growth, t, y_0)\n",
    "    # plot\n",
    "    ax.plot(t,y_euler_exp, label='explicit Euler $\\Delta t$ = %.2f'%delta_t)\n",
    "\n",
    "ax.set_ylabel(\"normalized cell density N\")\n",
    "ax.set_xlabel('time')\n",
    "ax.set_title('simulated cell density')\n",
    "ax.legend()"
   ]
  },
  {
   "cell_type": "markdown",
   "metadata": {},
   "source": [
    "Decreasing the stepsize results in a smooth non-oscillating curve that stabilizes at N=1 for large t.\n",
    "\n",
    "Larger stepsizes result in oscillatory patterns around the carrying capacity $K$, $N=1$. This becomes more evident when extending the integration interval:"
   ]
  },
  {
   "cell_type": "code",
   "execution_count": null,
   "metadata": {},
   "outputs": [],
   "source": [
    "t_min = 0 \n",
    "t_max = 200\n",
    "y_0 = 0.1\n",
    "\n",
    "fig = plt.figure(figsize=plt.figaspect(0.5))\n",
    "ax = fig.add_subplot(111) \n",
    "\n",
    "for delta_t in [10, 15, 20, 25]:\n",
    "    t = np.arange(t_min, t_max, delta_t)\n",
    "    y_euler_exp = solve_euler(log_growth, t, y_0)\n",
    "    # plot\n",
    "    ax.plot(t,y_euler_exp, label='explicit Euler $\\Delta t$ = %.2f'%delta_t)\n",
    "\n",
    "ax.set_ylabel(\"normalized cell density N\")\n",
    "ax.set_xlabel('time')\n",
    "ax.set_title('simulated cell density')\n",
    "ax.legend()"
   ]
  },
  {
   "cell_type": "markdown",
   "metadata": {},
   "source": [
    "The oscillatory pattern presented in the question is indeed a numeric artifact. \n",
    "\n",
    "However,  the oscillatory pattern shown in fig 1 cannot be reproduced with the parameters specified in Q3. This indicates that numerical stability depends on the ode and its parameterization as well as the integration stepsize (and also that different parameters have been used to produce the plot)."
   ]
  },
  {
   "cell_type": "markdown",
   "metadata": {},
   "source": [
    "### RK4 (optional)"
   ]
  },
  {
   "cell_type": "code",
   "execution_count": null,
   "metadata": {},
   "outputs": [],
   "source": [
    "# from lecture notes L05 \n",
    "# https://github.com/cohmathonc/biosci670/blob/master/IntroductionComputationalMethods/L05_IntroCompMethods_SolvingODEs.ipynb\n",
    "\n",
    "def solve_RK4(f, t, y_0):\n",
    "    \"\"\"\n",
    "    Uses 4-step Runge-Kutta method to solve ODE: y'=f(t, y) \n",
    "    with initial value y(t_0)=y_0.\n",
    "\n",
    "    Args:\n",
    "    - f: Function object that computes y', expected signature f(t, y), \n",
    "         where t is evaluation point and y is function value\n",
    "    - t: array of evaluation points\n",
    "    - y_0: initial value, i.e. y(t[0])\n",
    "\n",
    "    Returns:\n",
    "    - array containing approximated function values y(t[i]) \n",
    "    \"\"\"\n",
    "    y = np.zeros(t.shape)\n",
    "    y[0] = y_0\n",
    "    for i in range(0, len(t)-1):\n",
    "        delta_t = t[i+1]-t[i]\n",
    "        k_1  = delta_t * f(t[i], y[i])\n",
    "        k_2  = delta_t * f(t[i] + delta_t/2, y[i] + k_1/2)\n",
    "        k_3  = delta_t * f(t[i] + delta_t/2, y[i] + k_2/2)\n",
    "        k_4  = delta_t * f(t[i] + delta_t, y[i] + k_3)\n",
    "        y[i+1] = y[i] + 1/6*(k_1 + 2*k_2 + 2*k_3 + k_4)\n",
    "    return y\n",
    "\n"
   ]
  },
  {
   "cell_type": "code",
   "execution_count": null,
   "metadata": {},
   "outputs": [],
   "source": [
    "t_min = 0 \n",
    "t_max = 100\n",
    "y_0 = 0.1\n",
    "\n",
    "fig = plt.figure(figsize=plt.figaspect(0.5))\n",
    "ax = fig.add_subplot(111) \n",
    "\n",
    "for delta_t in [10, 5, 1]:\n",
    "    t = np.arange(t_min, t_max, delta_t)\n",
    "    y_euler_exp = solve_RK4(log_growth, t, y_0)\n",
    "    ax.plot(t,y_euler_exp, label='RK4 $\\Delta t$ = %.2f'%delta_t)\n",
    "\n",
    "ax.set_ylabel(\"normalized cell density N\")\n",
    "ax.set_xlabel('time')\n",
    "ax.set_title('simulated cell density')\n",
    "ax.legend()"
   ]
  },
  {
   "cell_type": "markdown",
   "metadata": {},
   "source": [
    "The approximation error of this method for a timestep of given size is smaller than the approximation error made by the Euler method.\n",
    "\n",
    "This method is also less prone to the instabilities observed in Q3 for the Euler method.  "
   ]
  },
  {
   "cell_type": "markdown",
   "metadata": {},
   "source": [
    "### RK45 from `scipy.integrate` (optional)"
   ]
  },
  {
   "cell_type": "code",
   "execution_count": null,
   "metadata": {},
   "outputs": [],
   "source": [
    "# using RK45 solver via scipy.integrate.solve_ivp also shown in L05\n",
    "# https://github.com/cohmathonc/biosci670/blob/master/IntroductionComputationalMethods/L05_IntroCompMethods_SolvingODEs.ipynb\n",
    "\n",
    "from scipy.integrate import solve_ivp\n",
    "\n",
    "t_min = 0 \n",
    "t_max = 200\n",
    "y_0 = 0.1\n",
    "\n",
    "fig = plt.figure(figsize=plt.figaspect(0.5))\n",
    "ax = fig.add_subplot(111) \n",
    "sol = solve_ivp(log_growth, [t_min, t_max], [y_0], \n",
    "                method='RK45', rtol=1E-6)\n",
    "# plot\n",
    "ax.plot(sol.t,sol.y[0], label='RK45 (scipy.integrate)',\n",
    "       marker='x')\n",
    "ax.set_ylabel(\"normalized cell density N\")\n",
    "ax.set_xlabel('time')\n",
    "ax.set_title('simulated cell density')\n",
    "ax.legend()"
   ]
  },
  {
   "cell_type": "markdown",
   "metadata": {},
   "source": [
    "###  Tolerance in adaptive time stepping (optional)"
   ]
  },
  {
   "cell_type": "markdown",
   "metadata": {},
   "source": [
    "The `rtol` option allows to modify the maximum *relative error* that is considered acceptable in each timestep. Decreasing `rtol` to smaller values means that the solution algorithm tries to find more accurate approximations which will translate into smaller step sizes. In turn, increasing `rtol` means that less accurate solutions are acceptable, which implies that the stepsize can be increased."
   ]
  },
  {
   "cell_type": "markdown",
   "metadata": {
    "colab_type": "text",
    "id": "nLtslNzmLhRX"
   },
   "source": [
    "###### About \n",
    "This notebook is part of the *biosci670* course on *Mathematical Modeling and Methods for Biomedical Science*.\n",
    "See https://github.com/cohmathonc/biosci670 for more information and material."
   ]
  }
 ],
 "metadata": {
  "colab": {
   "collapsed_sections": [
    "plodr4Y9Ap9m",
    "UqivxHm6BTYD",
    "KBQMIVtEXzK7",
    "iJ6aUbHTX7MZ",
    "oeTie8JMdDIh",
    "HtGP0DxWdrll",
    "5MjsT-4-uA5j",
    "tV62FaWs7wKE"
   ],
   "name": "CompMethods_Assignments.ipynb",
   "provenance": [],
   "version": "0.3.2"
  },
  "kernelspec": {
   "display_name": "Python 3",
   "language": "python",
   "name": "python3"
  },
  "language_info": {
   "codemirror_mode": {
    "name": "ipython",
    "version": 3
   },
   "file_extension": ".py",
   "mimetype": "text/x-python",
   "name": "python",
   "nbconvert_exporter": "python",
   "pygments_lexer": "ipython3",
   "version": "3.6.8"
  },
  "toc": {
   "base_numbering": 1,
   "nav_menu": {},
   "number_sections": true,
   "sideBar": true,
   "skip_h1_title": false,
   "title_cell": "Table of Contents",
   "title_sidebar": "Contents",
   "toc_cell": false,
   "toc_position": {},
   "toc_section_display": true,
   "toc_window_display": true
  }
 },
 "nbformat": 4,
 "nbformat_minor": 1
}
