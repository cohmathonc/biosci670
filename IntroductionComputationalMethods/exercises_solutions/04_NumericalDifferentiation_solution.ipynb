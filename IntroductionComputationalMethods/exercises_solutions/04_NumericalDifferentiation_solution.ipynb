{
 "cells": [
  {
   "cell_type": "markdown",
   "metadata": {},
   "source": [
    "<a href=\"https://colab.research.google.com/github/cohmathonc/biosci670/blob/master/IntroductionComputationalMethods/exercises_solutions/04_NumericalDifferentiation_solution.ipynb\" target=\"_parent\"><img src=\"https://colab.research.google.com/assets/colab-badge.svg\" alt=\"Open In Colab\"/></a>"
   ]
  },
  {
   "cell_type": "code",
   "execution_count": null,
   "metadata": {},
   "outputs": [],
   "source": [
    "import numpy as np\n",
    "import matplotlib.pylab as plt"
   ]
  },
  {
   "cell_type": "markdown",
   "metadata": {},
   "source": [
    "# Numerical Differentiation"
   ]
  },
  {
   "cell_type": "markdown",
   "metadata": {},
   "source": [
    "Write a function that approximates the first derivative of a sequence of values $f(x_0), f(x_1) \\ldots f(x_N)$ with known spacing $\\Delta x$ between subsequent evaluation points $\\Delta x = x_{i+1}-x_{i}$.\n",
    "\n",
    "The function should use a centered difference scheme to estimate $f'(x_1),\\ldots, f'(x_{N-1})$, a forward difference scheme to estimate $f'(x_0)$ and a backward difference scheme to estimate $f'(x_{N})$. \n",
    "\n",
    "Use this function to compute the numerical derivative of the following 'dataset':"
   ]
  },
  {
   "cell_type": "code",
   "execution_count": null,
   "metadata": {},
   "outputs": [],
   "source": [
    "data = [10.        , 11.05170918, 12.21402758, 13.49858808, 14.91824698,\n",
    "       16.48721271, 18.221188  , 20.13752707, 22.25540928, 24.59603111]\n",
    "x    = [0. , 0.1, 0.2, 0.3, 0.4, 0.5, 0.6, 0.7, 0.8, 0.9]"
   ]
  },
  {
   "cell_type": "markdown",
   "metadata": {},
   "source": [
    "Plot the data and your estimated derivative.\n",
    "\n",
    "What function could model this data set?"
   ]
  },
  {
   "cell_type": "markdown",
   "metadata": {},
   "source": [
    "## Solution"
   ]
  },
  {
   "cell_type": "code",
   "execution_count": null,
   "metadata": {},
   "outputs": [],
   "source": [
    "def derivative_mixed(y, delta_x):\n",
    "    \"\"\"\n",
    "    Computes centered difference on elements in 'y' array, assuming constant grid spacing 'delta_x'.\n",
    "    Uses forward/backward difference scheme on boundaries.\n",
    "\n",
    "    Args:\n",
    "    - y: an array of data points / function values\n",
    "    - x: scalar, indicating the spacing between subsequent observation/evaluation points\n",
    "    \"\"\"\n",
    "    n_eval_points = len(y)\n",
    "    derivative = np.ones(n_eval_points) * np.nan\n",
    "    for i in range(1, n_eval_points-1):\n",
    "        derivative[i] = (y[i+1]-y[i-1])/(2*delta_x)\n",
    "    derivative[0] = (y[1] - y[0])/delta_x      \n",
    "    derivative[-1] = (y[-1] - y[-2])/delta_x\n",
    "    return derivative\n"
   ]
  },
  {
   "cell_type": "code",
   "execution_count": null,
   "metadata": {},
   "outputs": [],
   "source": [
    "delta_x = x[1]-x[0]\n",
    "\n",
    "data_deriv = derivative_mixed(np.array(data), delta_x)\n",
    "\n",
    "plt.plot(x, data, '-o', label='data')\n",
    "plt.plot(x, data_deriv, label='approx derivative')\n",
    "plt.legend()\n"
   ]
  },
  {
   "cell_type": "markdown",
   "metadata": {},
   "source": [
    "Derivative is very similar to original data. \n",
    "This indicates that the data can be modelled by exponential function since this is the only function for which $f'(x) = f(x)$."
   ]
  },
  {
   "cell_type": "markdown",
   "metadata": {},
   "source": [
    "###### About \n",
    "This notebook is part of the *biosci670* course on *Mathematical Modeling and Methods for Biomedical Science*.\n",
    "See https://github.com/cohmathonc/biosci670 for more information and material."
   ]
  }
 ],
 "metadata": {
  "kernelspec": {
   "display_name": "Python 3",
   "language": "python",
   "name": "python3"
  },
  "language_info": {
   "codemirror_mode": {
    "name": "ipython",
    "version": 3
   },
   "file_extension": ".py",
   "mimetype": "text/x-python",
   "name": "python",
   "nbconvert_exporter": "python",
   "pygments_lexer": "ipython3",
   "version": "3.6.8"
  },
  "toc": {
   "base_numbering": 1,
   "nav_menu": {},
   "number_sections": true,
   "sideBar": true,
   "skip_h1_title": false,
   "title_cell": "Table of Contents",
   "title_sidebar": "Contents",
   "toc_cell": false,
   "toc_position": {},
   "toc_section_display": true,
   "toc_window_display": false
  }
 },
 "nbformat": 4,
 "nbformat_minor": 2
}
