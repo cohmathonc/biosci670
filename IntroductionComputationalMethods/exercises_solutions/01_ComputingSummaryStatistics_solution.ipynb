{
 "cells": [
  {
   "cell_type": "markdown",
   "metadata": {},
   "source": [
    "## Computing Summary Statistics"
   ]
  },
  {
   "cell_type": "markdown",
   "metadata": {},
   "source": [
    "Given a sample of $N$ values ${X_1, X_2, \\ldots, X_N}$ of some experimentally observed quantity $X$:\n",
    "\n",
    "---\n",
    "**Exercise:**\n",
    "\n",
    "Define functions that compute:\n",
    "\n",
    "1. sample **mean** $\\bar{X}=\\frac{1}{N}\\sum_{i=1}^N X_i$, \n",
    "2. sample **variance** $\\sigma^2=\\frac{1}{N-1}\\sum_{i=1}^N \\left(X_i-\\bar{X_i}\\right)^2$,\n",
    "3. **maximum** $X_\\text{max}$ and **minimum** $X_\\text{min}$ value, and\n",
    "4. sample **median**.\n",
    "\n",
    "Having implemented all functions (1)-(4):\n",
    "5. Compare the results of your functions to those computed by the [`statistics`](https://docs.python.org/3/library/statistics.html) module from Python's standard library.\n",
    "   \n",
    "---"
   ]
  },
  {
   "cell_type": "markdown",
   "metadata": {},
   "source": [
    "*Notes*:\n",
    "\n",
    "- All functions should accept a list of numbers as single input argument and return a single number which corresponds to the computed value.\n",
    "- Don't forget to reuse functions that you have defined previously. For example, computation of the variance (2), requires evaluation of the mean. You can simply call an existing function in the definition block of another function.\n",
    "- Python provides in-built `min` and `max` functions that return the min/max value of an iterable object (list, sequence, etc). Don't use those in task (3), write your own implementation of `min()`, `max()`. Choose function names that do not collide with these built-in functions.\n",
    "-  Computation of the *median* in task (4) will require you to first sort the observed values in ascending order. Then two cases need to be distinguished:\n",
    "   - If the list contains an *odd* number of items, the median corresponds to the $(N+1)/2$-th item of the list.\n",
    "   - For an *even* number of items, the median is computed as the average of the $(N/2)$-th item and the $(N/2+1)$-th item.\n",
    "   \n",
    "    Remember that Python uses '0-based' indexing!\n",
    "- You are welcome to write your own sorting algorithm for (4), but you can also use the built-in [`sorted()`](https://docs.python.org/3/howto/sorting.html)  function:"
   ]
  },
  {
   "cell_type": "code",
   "execution_count": null,
   "metadata": {},
   "outputs": [],
   "source": [
    "a_list = [3, 1, 0, -1, 2, 4, -5, -2, 5, -4, -2]        # this is just an example list\n",
    "a_list_sorted = sorted(a_list)                         # `sorted` returns a sorted (ascending) \n",
    "                                                       # version of that list\n",
    "print(a_list)\n",
    "print(a_list_sorted)"
   ]
  },
  {
   "cell_type": "markdown",
   "metadata": {},
   "source": [
    "- You can generate 'observations' for testing your functions using a random number generator from the [`random`](https://docs.python.org/3/library/random.html) module from Python's standard library.\n",
    "  In the following example, we draw $N=100$ random numbers from a Gaussian distribution with mean $\\mu=50$ and standard deviation $\\sigma=15$:"
   ]
  },
  {
   "cell_type": "code",
   "execution_count": null,
   "metadata": {},
   "outputs": [],
   "source": [
    "import random                                          # module with random number generators\n",
    "\n",
    "N = 100\n",
    "mean_dist = 50\n",
    "std_dist  = 15\n",
    "\n",
    "observations = []                                      # an empty list\n",
    "for i in range(N):                                     # loop with N iterations -> draw N numbers\n",
    "    sample_value = random.gauss(mean_dist, std_dist)   # draw number from distribution\n",
    "    observations.append(sample_value)                  # add number to our 'observations' list\n",
    "    "
   ]
  },
  {
   "cell_type": "markdown",
   "metadata": {},
   "source": [
    "- You can report the results returned by your functions in a similar way:"
   ]
  },
  {
   "cell_type": "code",
   "execution_count": null,
   "metadata": {},
   "outputs": [],
   "source": [
    "import statistics\n",
    "\n",
    "print(\"mean:     %.4f\"% statistics.mean(observations))\n",
    "print(\"variance: %.4f\"% statistics.variance(observations))\n",
    "print(\"median:   %.4f\"% statistics.median(observations))\n",
    "print(\"min:      %.4f\"% min(observations))\n",
    "print(\"max:      %.4f\"% max(observations))"
   ]
  },
  {
   "cell_type": "markdown",
   "metadata": {},
   "source": [
    "## Solution"
   ]
  },
  {
   "cell_type": "code",
   "execution_count": null,
   "metadata": {},
   "outputs": [],
   "source": [
    "# (1)\n",
    "\n",
    "def mean(obs_list):\n",
    "    \"\"\"\n",
    "    Computes arithmetic mean of list of values.\n",
    "    \n",
    "    Args:\n",
    "        - obs_list: list of 'observation' values\n",
    "        \n",
    "    Returns:\n",
    "        - arithmetic mean of sample values in obs_list\n",
    "    \"\"\"\n",
    "    sum_obs = 0\n",
    "    for obs in obs_list:\n",
    "        sum_obs += obs\n",
    "    return sum_obs/len(obs_list)"
   ]
  },
  {
   "cell_type": "code",
   "execution_count": null,
   "metadata": {},
   "outputs": [],
   "source": [
    "# (2)\n",
    "def variance(obs_list):\n",
    "    \"\"\"\n",
    "    Computes (corrected) sample variance.\n",
    "    \n",
    "    Args:\n",
    "        - obs_list: list of 'observation' values\n",
    "        \n",
    "    Returns:\n",
    "        - corrected sample variance\n",
    "    \"\"\"\n",
    "    sample_mean = mean(obs_list)\n",
    "    var_tmp = 0\n",
    "    for obs in obs_list:\n",
    "        diff = obs - sample_mean\n",
    "        var_tmp += diff**2\n",
    "    return var_tmp/(len(obs_list)-1)\n",
    "            "
   ]
  },
  {
   "cell_type": "code",
   "execution_count": null,
   "metadata": {},
   "outputs": [],
   "source": [
    "# (3)\n",
    "\n",
    "def my_min(obs_list):\n",
    "    \"\"\"\n",
    "    Returns smallest value from list of values.\n",
    "    \"\"\"\n",
    "    min_val = obs_list[0]\n",
    "    for obs in obs_list:\n",
    "        if obs < min_val:\n",
    "            min_val = obs\n",
    "    return min_val\n",
    "\n",
    "def my_max(obs_list):\n",
    "    \"\"\"\n",
    "    Returns largest value from list of values.\n",
    "    \"\"\"\n",
    "    max_val = obs_list[0]\n",
    "    for obs in obs_list:\n",
    "        if obs > max_val:\n",
    "            max_val = obs\n",
    "    return max_val\n"
   ]
  },
  {
   "cell_type": "code",
   "execution_count": null,
   "metadata": {},
   "outputs": [],
   "source": [
    "# (4) with naive sorting algorithm and (better) built-in sorting algorithm\n",
    "\n",
    "def sort_list(obs_list, ascending=True):\n",
    "    sorted_list = obs_list.copy()\n",
    "    continue_sort=True\n",
    "    cnt = 0\n",
    "    while continue_sort:\n",
    "        for i, curr_obs in enumerate(sorted_list[:-1]):\n",
    "            next_obs = sorted_list[i+1]\n",
    "            if ((curr_obs > next_obs) and ascending) or \\\n",
    "               ((curr_obs < next_obs) and not ascending):\n",
    "                sorted_list[i] = next_obs\n",
    "                sorted_list[i+1] = curr_obs\n",
    "                continue_sort=True\n",
    "                break\n",
    "            else:\n",
    "                continue_sort=False\n",
    "        cnt += 1\n",
    "    print(\"Sorted in %i iterations\"%cnt)\n",
    "    return sorted_list\n",
    "\n",
    "def median_slow(obs_list):\n",
    "    \"\"\"\n",
    "    Computes median using naive sorting algorithm.\n",
    "    \n",
    "    Args:\n",
    "        - obs_list: list of 'observation' values\n",
    "        \n",
    "    Returns:\n",
    "        - median of sample values in obs_list\n",
    "    \"\"\"\n",
    "    N = len(obs_list)\n",
    "    sorted_list = sort_list(obs_list, ascending=True)\n",
    "    if N%2==0:    #even -> average of \n",
    "        n_mid_1 = int(N/2)\n",
    "        n_mid_2 = int(N/2+1)\n",
    "        median = (sorted_list[n_mid_1-1]+sorted_list[n_mid_2-1])/2\n",
    "    else:         #odd\n",
    "        n_mid = int((N+1)/2)\n",
    "        median = sorted_list[n_mid-1]\n",
    "    return median\n",
    "\n",
    "def median(obs_list):\n",
    "    \"\"\"\n",
    "    Computes median using built-in sorting algorithm.\n",
    "    \n",
    "    Args:\n",
    "        - obs_list: list of 'observation' values\n",
    "        \n",
    "    Returns:\n",
    "        - median of sample values in obs_list\n",
    "    \"\"\"\n",
    "    N = len(obs_list)\n",
    "    sorted_list = sorted(obs_list)\n",
    "    if N%2==0:    #even \n",
    "        n_mid_1 = int(N/2)\n",
    "        n_mid_2 = int(N/2+1)\n",
    "        median = (sorted_list[n_mid_1-1]+sorted_list[n_mid_2-1])/2\n",
    "    else:         #odd\n",
    "        n_mid = int((N+1)/2)\n",
    "        median = sorted_list[n_mid-1]\n",
    "    return median"
   ]
  },
  {
   "cell_type": "code",
   "execution_count": null,
   "metadata": {},
   "outputs": [],
   "source": [
    "# (5) Results\n",
    "\n",
    "print(\"mean:     %.4f\"% mean(observations))\n",
    "print(\"variance: %.4f\"% variance(observations))\n",
    "print(\"median:   %.4f\"% median(observations))\n",
    "print(\"min:      %.4f\"% my_min(observations))\n",
    "print(\"max:      %.4f\"% my_max(observations))"
   ]
  }
 ],
 "metadata": {
  "kernelspec": {
   "display_name": "Python 3",
   "language": "python",
   "name": "python3"
  },
  "language_info": {
   "codemirror_mode": {
    "name": "ipython",
    "version": 3
   },
   "file_extension": ".py",
   "mimetype": "text/x-python",
   "name": "python",
   "nbconvert_exporter": "python",
   "pygments_lexer": "ipython3",
   "version": "3.6.8"
  },
  "toc": {
   "base_numbering": 1,
   "nav_menu": {},
   "number_sections": true,
   "sideBar": true,
   "skip_h1_title": false,
   "title_cell": "Table of Contents",
   "title_sidebar": "Contents",
   "toc_cell": false,
   "toc_position": {},
   "toc_section_display": true,
   "toc_window_display": false
  }
 },
 "nbformat": 4,
 "nbformat_minor": 2
}
