{
 "cells": [
  {
   "cell_type": "markdown",
   "metadata": {
    "colab_type": "text",
    "id": "gsXStGAR7XjM"
   },
   "source": [
    "# Zen of Python"
   ]
  },
  {
   "cell_type": "markdown",
   "metadata": {
    "colab_type": "text",
    "id": "dV-AiLL_7bYp"
   },
   "source": [
    "The 'Zen of Python' [easteregg](https://www.python.org/dev/peps/pep-0020/) module can be imported into the global namespace by `import this`.\n",
    "\n",
    "Any module is only imported once into an active interactive Python session. It will not be reimported. You can test this by executing the following cell twice. After the first execution, the 'Zen of Python' is shown as 'greeting message', but not after the second execution."
   ]
  },
  {
   "cell_type": "code",
   "execution_count": null,
   "metadata": {
    "colab": {},
    "colab_type": "code",
    "id": "QPPLV5js7W05"
   },
   "outputs": [],
   "source": [
    "import this"
   ]
  },
  {
   "cell_type": "markdown",
   "metadata": {
    "colab_type": "text",
    "id": "FpgmerTk8d9C"
   },
   "source": [
    "Nevetheless, you now have the `this` module in your namespace. \n",
    "Investigate the content of `this` by:"
   ]
  },
  {
   "cell_type": "code",
   "execution_count": null,
   "metadata": {
    "colab": {},
    "colab_type": "code",
    "id": "aAFmncAj7XWZ"
   },
   "outputs": [],
   "source": [
    "dir(this)"
   ]
  },
  {
   "cell_type": "markdown",
   "metadata": {
    "colab_type": "text",
    "id": "IijzAGex8od4"
   },
   "source": [
    "Elements in this list that have leading or tailing double underscores `__` are internal attributes of the module; not of interest for now.\n",
    "Inspect the other four attributes:"
   ]
  },
  {
   "cell_type": "code",
   "execution_count": null,
   "metadata": {
    "colab": {},
    "colab_type": "code",
    "id": "LH7NTQ-W8nSV"
   },
   "outputs": [],
   "source": [
    "print(\"this.c: \", this.c)\n",
    "print(\"this.d: \", this.d)\n",
    "print(\"this.i: \", this.i)\n",
    "print(\"this.s: \", this.s)"
   ]
  },
  {
   "cell_type": "markdown",
   "metadata": {
    "colab_type": "text",
    "id": "lEw2WOig9QV_"
   },
   "source": [
    "`this.s` appears to contain a long multiline string, with scrambled characters, `this.d` contains a dictionary that maps one letter to another letter. \n",
    "In fact, `this.d` provides the decoding key to recover the 'Zen of Python' from `this.s`.\n",
    "\n",
    "\n",
    "\n",
    "---\n",
    "**Exercise:**\n",
    "\n",
    "decode `this.s` using `this.d`!\n",
    "\n",
    "---\n",
    "\n",
    "*Notes:*\n",
    "\n",
    "1. Strings behave similar to tuples, you can iterate over each character in the string.\n",
    "2. To reconstruct the original message, build a list that contains all decoded characters. \n",
    "3. You may not have sufficient information to decode each of the characters in `this.s`. To avoid errors, check whether you actually can decode a given character, i.e. whether the current character is contained in the index of the decoding dictionary before trying to use the dictionary for decoding. You can check whether a given item is in the index of a dictionary by:\n",
    "\n"
   ]
  },
  {
   "cell_type": "code",
   "execution_count": null,
   "metadata": {},
   "outputs": [],
   "source": [
    "a_dict = {'a' : 'b',\n",
    "          'b' : 'c'}\n",
    "\n",
    "print('a' in a_dict.keys())  # this returns a boolean value \n",
    "                             # -> True if 'item' in keys of dictionary 'some_dict'\n",
    "print('c' in a_dict.keys())    "
   ]
  },
  {
   "cell_type": "markdown",
   "metadata": {},
   "source": [
    "4. Once you have a list of characters, you can reassemble a string from this list by:"
   ]
  },
  {
   "cell_type": "code",
   "execution_count": null,
   "metadata": {},
   "outputs": [],
   "source": [
    "a_list_of_characters = ['l','i','s','t',' ','o','f',' ','c','h','a','r','a','c','t','e','r','s']\n",
    "\n",
    "string_from_list = \"\".join(a_list_of_characters)\n",
    "\n",
    "print(a_list_of_characters)\n",
    "print(string_from_list)"
   ]
  },
  {
   "cell_type": "markdown",
   "metadata": {},
   "source": [
    "## Solution"
   ]
  },
  {
   "cell_type": "code",
   "execution_count": null,
   "metadata": {},
   "outputs": [],
   "source": [
    "subs_dict = this.d                # create meaningful variable names\n",
    "zen_scrumbled = this.s\n",
    "\n",
    "zen_decoded = []                  # this is where we 'store' decoded characters\n",
    "                                  # we don't know how many there will be -> list\n",
    "non_decodable_characters = []\n",
    "for c in zen_scrumbled:               # iterate over every character in string\n",
    "      if c in subs_dict.keys():       # only try to decode if dictionary contains a \n",
    "                                      # key that matches the character to be decoded\n",
    "          c_decoded = subs_dict[c]\n",
    "      else:                           # otherwise, just use the original character\n",
    "          c_decoded = c  \n",
    "          non_decodable_characters.append(c)\n",
    "\n",
    "      zen_decoded.append(c_decoded)   # append character to list\n",
    "\n",
    "zen_string = ''.join(zen_decoded) # join characters in list into string\n",
    "print(zen_string)"
   ]
  },
  {
   "cell_type": "code",
   "execution_count": null,
   "metadata": {},
   "outputs": [],
   "source": [
    "non_decodable_characters"
   ]
  },
  {
   "cell_type": "code",
   "execution_count": null,
   "metadata": {},
   "outputs": [],
   "source": []
  }
 ],
 "metadata": {
  "colab": {
   "collapsed_sections": [],
   "include_colab_link": true,
   "name": "zen_of_python.ipynb",
   "provenance": [],
   "version": "0.3.2"
  },
  "kernelspec": {
   "display_name": "Python 3",
   "language": "python",
   "name": "python3"
  },
  "language_info": {
   "codemirror_mode": {
    "name": "ipython",
    "version": 3
   },
   "file_extension": ".py",
   "mimetype": "text/x-python",
   "name": "python",
   "nbconvert_exporter": "python",
   "pygments_lexer": "ipython3",
   "version": "3.6.8"
  },
  "toc": {
   "base_numbering": 1,
   "nav_menu": {},
   "number_sections": true,
   "sideBar": true,
   "skip_h1_title": false,
   "title_cell": "Table of Contents",
   "title_sidebar": "Contents",
   "toc_cell": false,
   "toc_position": {},
   "toc_section_display": true,
   "toc_window_display": false
  }
 },
 "nbformat": 4,
 "nbformat_minor": 2
}
